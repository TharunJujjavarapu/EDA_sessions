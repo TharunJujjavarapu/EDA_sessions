{
 "cells": [
  {
   "cell_type": "code",
   "execution_count": 1,
   "id": "10d183ac",
   "metadata": {},
   "outputs": [],
   "source": [
    "import pandas as pd\n",
    "import numpy as np\n",
    "import seaborn as sns\n",
    "import matplotlib.pyplot as plt"
   ]
  },
  {
   "cell_type": "code",
   "execution_count": 2,
   "id": "ac251ffb",
   "metadata": {},
   "outputs": [
    {
     "data": {
      "text/html": [
       "<div>\n",
       "<style scoped>\n",
       "    .dataframe tbody tr th:only-of-type {\n",
       "        vertical-align: middle;\n",
       "    }\n",
       "\n",
       "    .dataframe tbody tr th {\n",
       "        vertical-align: top;\n",
       "    }\n",
       "\n",
       "    .dataframe thead th {\n",
       "        text-align: right;\n",
       "    }\n",
       "</style>\n",
       "<table border=\"1\" class=\"dataframe\">\n",
       "  <thead>\n",
       "    <tr style=\"text-align: right;\">\n",
       "      <th></th>\n",
       "      <th>case_id</th>\n",
       "      <th>continent</th>\n",
       "      <th>education_of_employee</th>\n",
       "      <th>has_job_experience</th>\n",
       "      <th>requires_job_training</th>\n",
       "      <th>no_of_employees</th>\n",
       "      <th>yr_of_estab</th>\n",
       "      <th>region_of_employment</th>\n",
       "      <th>prevailing_wage</th>\n",
       "      <th>unit_of_wage</th>\n",
       "      <th>full_time_position</th>\n",
       "      <th>case_status</th>\n",
       "    </tr>\n",
       "  </thead>\n",
       "  <tbody>\n",
       "    <tr>\n",
       "      <th>0</th>\n",
       "      <td>EZYV01</td>\n",
       "      <td>Asia</td>\n",
       "      <td>High School</td>\n",
       "      <td>N</td>\n",
       "      <td>N</td>\n",
       "      <td>14513</td>\n",
       "      <td>2007</td>\n",
       "      <td>West</td>\n",
       "      <td>592.2029</td>\n",
       "      <td>Hour</td>\n",
       "      <td>Y</td>\n",
       "      <td>Denied</td>\n",
       "    </tr>\n",
       "    <tr>\n",
       "      <th>1</th>\n",
       "      <td>EZYV02</td>\n",
       "      <td>Asia</td>\n",
       "      <td>Master's</td>\n",
       "      <td>Y</td>\n",
       "      <td>N</td>\n",
       "      <td>2412</td>\n",
       "      <td>2002</td>\n",
       "      <td>Northeast</td>\n",
       "      <td>83425.6500</td>\n",
       "      <td>Year</td>\n",
       "      <td>Y</td>\n",
       "      <td>Certified</td>\n",
       "    </tr>\n",
       "    <tr>\n",
       "      <th>2</th>\n",
       "      <td>EZYV03</td>\n",
       "      <td>Asia</td>\n",
       "      <td>Bachelor's</td>\n",
       "      <td>N</td>\n",
       "      <td>Y</td>\n",
       "      <td>44444</td>\n",
       "      <td>2008</td>\n",
       "      <td>West</td>\n",
       "      <td>122996.8600</td>\n",
       "      <td>Year</td>\n",
       "      <td>Y</td>\n",
       "      <td>Denied</td>\n",
       "    </tr>\n",
       "    <tr>\n",
       "      <th>3</th>\n",
       "      <td>EZYV04</td>\n",
       "      <td>Asia</td>\n",
       "      <td>Bachelor's</td>\n",
       "      <td>N</td>\n",
       "      <td>N</td>\n",
       "      <td>98</td>\n",
       "      <td>1897</td>\n",
       "      <td>West</td>\n",
       "      <td>83434.0300</td>\n",
       "      <td>Year</td>\n",
       "      <td>Y</td>\n",
       "      <td>Denied</td>\n",
       "    </tr>\n",
       "    <tr>\n",
       "      <th>4</th>\n",
       "      <td>EZYV05</td>\n",
       "      <td>Africa</td>\n",
       "      <td>Master's</td>\n",
       "      <td>Y</td>\n",
       "      <td>N</td>\n",
       "      <td>1082</td>\n",
       "      <td>2005</td>\n",
       "      <td>South</td>\n",
       "      <td>149907.3900</td>\n",
       "      <td>Year</td>\n",
       "      <td>Y</td>\n",
       "      <td>Certified</td>\n",
       "    </tr>\n",
       "    <tr>\n",
       "      <th>...</th>\n",
       "      <td>...</td>\n",
       "      <td>...</td>\n",
       "      <td>...</td>\n",
       "      <td>...</td>\n",
       "      <td>...</td>\n",
       "      <td>...</td>\n",
       "      <td>...</td>\n",
       "      <td>...</td>\n",
       "      <td>...</td>\n",
       "      <td>...</td>\n",
       "      <td>...</td>\n",
       "      <td>...</td>\n",
       "    </tr>\n",
       "    <tr>\n",
       "      <th>25475</th>\n",
       "      <td>EZYV25476</td>\n",
       "      <td>Asia</td>\n",
       "      <td>Bachelor's</td>\n",
       "      <td>Y</td>\n",
       "      <td>Y</td>\n",
       "      <td>2601</td>\n",
       "      <td>2008</td>\n",
       "      <td>South</td>\n",
       "      <td>77092.5700</td>\n",
       "      <td>Year</td>\n",
       "      <td>Y</td>\n",
       "      <td>Certified</td>\n",
       "    </tr>\n",
       "    <tr>\n",
       "      <th>25476</th>\n",
       "      <td>EZYV25477</td>\n",
       "      <td>Asia</td>\n",
       "      <td>High School</td>\n",
       "      <td>Y</td>\n",
       "      <td>N</td>\n",
       "      <td>3274</td>\n",
       "      <td>2006</td>\n",
       "      <td>Northeast</td>\n",
       "      <td>279174.7900</td>\n",
       "      <td>Year</td>\n",
       "      <td>Y</td>\n",
       "      <td>Certified</td>\n",
       "    </tr>\n",
       "    <tr>\n",
       "      <th>25477</th>\n",
       "      <td>EZYV25478</td>\n",
       "      <td>Asia</td>\n",
       "      <td>Master's</td>\n",
       "      <td>Y</td>\n",
       "      <td>N</td>\n",
       "      <td>1121</td>\n",
       "      <td>1910</td>\n",
       "      <td>South</td>\n",
       "      <td>146298.8500</td>\n",
       "      <td>Year</td>\n",
       "      <td>N</td>\n",
       "      <td>Certified</td>\n",
       "    </tr>\n",
       "    <tr>\n",
       "      <th>25478</th>\n",
       "      <td>EZYV25479</td>\n",
       "      <td>Asia</td>\n",
       "      <td>Master's</td>\n",
       "      <td>Y</td>\n",
       "      <td>Y</td>\n",
       "      <td>1918</td>\n",
       "      <td>1887</td>\n",
       "      <td>West</td>\n",
       "      <td>86154.7700</td>\n",
       "      <td>Year</td>\n",
       "      <td>Y</td>\n",
       "      <td>Certified</td>\n",
       "    </tr>\n",
       "    <tr>\n",
       "      <th>25479</th>\n",
       "      <td>EZYV25480</td>\n",
       "      <td>Asia</td>\n",
       "      <td>Bachelor's</td>\n",
       "      <td>Y</td>\n",
       "      <td>N</td>\n",
       "      <td>3195</td>\n",
       "      <td>1960</td>\n",
       "      <td>Midwest</td>\n",
       "      <td>70876.9100</td>\n",
       "      <td>Year</td>\n",
       "      <td>Y</td>\n",
       "      <td>Certified</td>\n",
       "    </tr>\n",
       "  </tbody>\n",
       "</table>\n",
       "<p>25480 rows × 12 columns</p>\n",
       "</div>"
      ],
      "text/plain": [
       "         case_id continent education_of_employee has_job_experience  \\\n",
       "0         EZYV01      Asia           High School                  N   \n",
       "1         EZYV02      Asia              Master's                  Y   \n",
       "2         EZYV03      Asia            Bachelor's                  N   \n",
       "3         EZYV04      Asia            Bachelor's                  N   \n",
       "4         EZYV05    Africa              Master's                  Y   \n",
       "...          ...       ...                   ...                ...   \n",
       "25475  EZYV25476      Asia            Bachelor's                  Y   \n",
       "25476  EZYV25477      Asia           High School                  Y   \n",
       "25477  EZYV25478      Asia              Master's                  Y   \n",
       "25478  EZYV25479      Asia              Master's                  Y   \n",
       "25479  EZYV25480      Asia            Bachelor's                  Y   \n",
       "\n",
       "      requires_job_training  no_of_employees  yr_of_estab  \\\n",
       "0                         N            14513         2007   \n",
       "1                         N             2412         2002   \n",
       "2                         Y            44444         2008   \n",
       "3                         N               98         1897   \n",
       "4                         N             1082         2005   \n",
       "...                     ...              ...          ...   \n",
       "25475                     Y             2601         2008   \n",
       "25476                     N             3274         2006   \n",
       "25477                     N             1121         1910   \n",
       "25478                     Y             1918         1887   \n",
       "25479                     N             3195         1960   \n",
       "\n",
       "      region_of_employment  prevailing_wage unit_of_wage full_time_position  \\\n",
       "0                     West         592.2029         Hour                  Y   \n",
       "1                Northeast       83425.6500         Year                  Y   \n",
       "2                     West      122996.8600         Year                  Y   \n",
       "3                     West       83434.0300         Year                  Y   \n",
       "4                    South      149907.3900         Year                  Y   \n",
       "...                    ...              ...          ...                ...   \n",
       "25475                South       77092.5700         Year                  Y   \n",
       "25476            Northeast      279174.7900         Year                  Y   \n",
       "25477                South      146298.8500         Year                  N   \n",
       "25478                 West       86154.7700         Year                  Y   \n",
       "25479              Midwest       70876.9100         Year                  Y   \n",
       "\n",
       "      case_status  \n",
       "0          Denied  \n",
       "1       Certified  \n",
       "2          Denied  \n",
       "3          Denied  \n",
       "4       Certified  \n",
       "...           ...  \n",
       "25475   Certified  \n",
       "25476   Certified  \n",
       "25477   Certified  \n",
       "25478   Certified  \n",
       "25479   Certified  \n",
       "\n",
       "[25480 rows x 12 columns]"
      ]
     },
     "execution_count": 2,
     "metadata": {},
     "output_type": "execute_result"
    }
   ],
   "source": [
    "file_path=\"C:\\\\Users\\\\lenovo\\\\Desktop\\\\Data Science course\\\\Data Files\\\\Visadataset.csv\"\n",
    "visa_df=pd.read_csv(file_path)#visa_dataset\n",
    "visa_df"
   ]
  },
  {
   "cell_type": "code",
   "execution_count": 5,
   "id": "434afe9d",
   "metadata": {},
   "outputs": [
    {
     "data": {
      "text/plain": [
       "Index(['case_id', 'continent', 'education_of_employee', 'has_job_experience',\n",
       "       'requires_job_training', 'no_of_employees', 'yr_of_estab',\n",
       "       'region_of_employment', 'prevailing_wage', 'unit_of_wage',\n",
       "       'full_time_position', 'case_status'],\n",
       "      dtype='object')"
      ]
     },
     "execution_count": 5,
     "metadata": {},
     "output_type": "execute_result"
    }
   ],
   "source": [
    "visa_df.columns"
   ]
  },
  {
   "cell_type": "code",
   "execution_count": 6,
   "id": "244cfc10",
   "metadata": {},
   "outputs": [
    {
     "data": {
      "text/plain": [
       "0           592.2029\n",
       "1         83425.6500\n",
       "2        122996.8600\n",
       "3         83434.0300\n",
       "4        149907.3900\n",
       "            ...     \n",
       "25475     77092.5700\n",
       "25476    279174.7900\n",
       "25477    146298.8500\n",
       "25478     86154.7700\n",
       "25479     70876.9100\n",
       "Name: prevailing_wage, Length: 25480, dtype: float64"
      ]
     },
     "execution_count": 6,
     "metadata": {},
     "output_type": "execute_result"
    }
   ],
   "source": [
    "visa_df['prevailing_wage']"
   ]
  },
  {
   "cell_type": "code",
   "execution_count": 7,
   "id": "2b241e3e",
   "metadata": {},
   "outputs": [
    {
     "data": {
      "text/plain": [
       "0           592.2029\n",
       "1         83425.6500\n",
       "2        122996.8600\n",
       "3         83434.0300\n",
       "4        149907.3900\n",
       "            ...     \n",
       "25475     77092.5700\n",
       "25476    279174.7900\n",
       "25477    146298.8500\n",
       "25478     86154.7700\n",
       "25479     70876.9100\n",
       "Name: prevailing_wage, Length: 25480, dtype: float64"
      ]
     },
     "execution_count": 7,
     "metadata": {},
     "output_type": "execute_result"
    }
   ],
   "source": [
    "wage_data=visa_df['prevailing_wage']\n",
    "wage_data"
   ]
  },
  {
   "cell_type": "code",
   "execution_count": 8,
   "id": "b95c478d",
   "metadata": {},
   "outputs": [
    {
     "data": {
      "text/plain": [
       "74455.81459209221"
      ]
     },
     "execution_count": 8,
     "metadata": {},
     "output_type": "execute_result"
    }
   ],
   "source": [
    "#mean value\n",
    "wage_data.mean()"
   ]
  },
  {
   "cell_type": "code",
   "execution_count": 9,
   "id": "561b14d5",
   "metadata": {},
   "outputs": [
    {
     "data": {
      "text/plain": [
       "70308.20999999999"
      ]
     },
     "execution_count": 9,
     "metadata": {},
     "output_type": "execute_result"
    }
   ],
   "source": [
    "#median value\n",
    "wage_data.median()"
   ]
  },
  {
   "cell_type": "markdown",
   "id": "a6639d5a",
   "metadata": {},
   "source": [
    "- mean > median value\n",
    "\n",
    "- slightly greater than\n",
    "\n",
    "- Right skewed or postive skewed"
   ]
  },
  {
   "cell_type": "code",
   "execution_count": 10,
   "id": "a71cafdb",
   "metadata": {},
   "outputs": [
    {
     "data": {
      "image/png": "[encoded data removed]",
      "text/plain": [
       "<Figure size 640x480 with 1 Axes>"
      ]
     },
     "metadata": {},
     "output_type": "display_data"
    }
   ],
   "source": [
    "plt.hist(wage_data,bins=40)\n",
    "plt.show()"
   ]
  },
  {
   "cell_type": "markdown",
   "id": "81b04e21",
   "metadata": {},
   "source": [
    "**Boxplot**"
   ]
  },
  {
   "cell_type": "markdown",
   "id": "3768fe7b",
   "metadata": {},
   "source": [
    "<img src=\"data:image/png;base64,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\" data-deferred=\"1\" class=\"rg_i Q4LuWd\" jsname=\"Q4LuWd\" width=\"329\" height=\"154\" alt=\"Box Plot (Definition, Parts, Distribution, Applications &amp; Examples)\" data-iml=\"962.5\" data-atf=\"true\">"
   ]
  },
  {
   "cell_type": "code",
   "execution_count": 12,
   "id": "006db9d1",
   "metadata": {},
   "outputs": [
    {
     "data": {
      "image/png": "[encoded data removed]",
      "text/plain": [
       "<Figure size 640x480 with 1 Axes>"
      ]
     },
     "metadata": {},
     "output_type": "display_data"
    }
   ],
   "source": [
    "plt.boxplot(wage_data,vert=False)\n",
    "plt.show()"
   ]
  },
  {
   "cell_type": "markdown",
   "id": "96f66219",
   "metadata": {},
   "source": [
    "**Find the outliers**\n",
    "\n",
    "- Q1=25percentile\n",
    "- Q2=50percentile\n",
    "- Q3=75percntile\n",
    "- IQR=Q3-Q1\n",
    "- UPPER BOUND(UB)=Q3+1.5IQR\n",
    "- LOWER BOUND(LB)=Q1-1.5*IQR\n",
    "- cond1=wage_data>UB\n",
    "- cond2=wage_data<LB\n",
    "- wage_data[cond1|cond2]"
   ]
  },
  {
   "cell_type": "code",
   "execution_count": 20,
   "id": "fcb9f492",
   "metadata": {},
   "outputs": [
    {
     "data": {
      "text/plain": [
       "(14       220081.73\n",
       " 34       225569.73\n",
       " 130      247393.01\n",
       " 216      269321.68\n",
       " 221      219529.62\n",
       "            ...    \n",
       " 25191    280482.51\n",
       " 25195    234308.77\n",
       " 25468    272715.74\n",
       " 25469    273772.47\n",
       " 25476    279174.79\n",
       " Name: prevailing_wage, Length: 427, dtype: float64,\n",
       " 427)"
      ]
     },
     "execution_count": 20,
     "metadata": {},
     "output_type": "execute_result"
    }
   ],
   "source": [
    "def outliers_data():\n",
    "    q1=np.percentile(wage_data,25)\n",
    "    q3=np.percentile(wage_data,75)\n",
    "    iqr=q3-q1\n",
    "    ub=q3+1.5*iqr\n",
    "    lb=q1-1.5*iqr\n",
    "    cond1=wage_data>ub\n",
    "    cond2=wage_data<lb\n",
    "    outliers=wage_data[cond1|cond2]\n",
    "    return outliers\n",
    "outliers=outliers_data()\n",
    "outliers,len(outliers)"
   ]
  },
  {
   "cell_type": "code",
   "execution_count": 21,
   "id": "2d4affb8",
   "metadata": {},
   "outputs": [
    {
     "data": {
      "text/plain": [
       "1.6758241758241759"
      ]
     },
     "execution_count": 21,
     "metadata": {},
     "output_type": "execute_result"
    }
   ],
   "source": [
    "len(outliers)/len(wage_data)*100#1.67 percentile outliers "
   ]
  },
  {
   "cell_type": "markdown",
   "id": "951a0f80",
   "metadata": {},
   "source": [
    "$How$ $to$ $treat$ $outliers$:\n",
    "\n",
    "- Removal of outlier , if outlier percentage < 2%\n",
    "\n",
    "- Impute with Median \n",
    "\n",
    "- Cap with >Q3 with Q3 values and <Q1 values with Q1 value\n",
    "\n",
    "- Apply Z-standardization find those outliers count and values is same\n",
    "\n",
    "- then those are called influential outliers\n",
    "\n",
    "- apply the first 3 methods "
   ]
  },
  {
   "cell_type": "markdown",
   "id": "9243e45f",
   "metadata": {},
   "source": [
    "**Step-1**\n",
    "- Removal of outliers"
   ]
  },
  {
   "cell_type": "code",
   "execution_count": 31,
   "id": "642b5c70",
   "metadata": {},
   "outputs": [
    {
     "data": {
      "text/plain": [
       "25053"
      ]
     },
     "execution_count": 31,
     "metadata": {},
     "output_type": "execute_result"
    }
   ],
   "source": [
    "def non_outliers_data():\n",
    "    q1 = np.percentile(wage_data,25)\n",
    "    q2 = np.percentile(wage_data,50)\n",
    "    q3 = np.percentile(wage_data,75)\n",
    "    iqr= q3-q1\n",
    "\n",
    "    ub= q3+1.5*iqr\n",
    "    lb= q1-1.5*iqr\n",
    "    con1=wage_data<ub \n",
    "    con2=wage_data>lb \n",
    "    non_outliers=visa_df[con1&con2]  # dataframe remove the values\n",
    "    return non_outliers\n",
    "\n",
    "non_outliers=non_outliers_data()\n",
    "len(non_outliers)\n"
   ]
  },
  {
   "cell_type": "code",
   "execution_count": 32,
   "id": "7261fd45",
   "metadata": {},
   "outputs": [
    {
     "data": {
      "text/html": [
       "<div>\n",
       "<style scoped>\n",
       "    .dataframe tbody tr th:only-of-type {\n",
       "        vertical-align: middle;\n",
       "    }\n",
       "\n",
       "    .dataframe tbody tr th {\n",
       "        vertical-align: top;\n",
       "    }\n",
       "\n",
       "    .dataframe thead th {\n",
       "        text-align: right;\n",
       "    }\n",
       "</style>\n",
       "<table border=\"1\" class=\"dataframe\">\n",
       "  <thead>\n",
       "    <tr style=\"text-align: right;\">\n",
       "      <th></th>\n",
       "      <th>case_id</th>\n",
       "      <th>continent</th>\n",
       "      <th>education_of_employee</th>\n",
       "      <th>has_job_experience</th>\n",
       "      <th>requires_job_training</th>\n",
       "      <th>no_of_employees</th>\n",
       "      <th>yr_of_estab</th>\n",
       "      <th>region_of_employment</th>\n",
       "      <th>prevailing_wage</th>\n",
       "      <th>unit_of_wage</th>\n",
       "      <th>full_time_position</th>\n",
       "      <th>case_status</th>\n",
       "    </tr>\n",
       "  </thead>\n",
       "  <tbody>\n",
       "    <tr>\n",
       "      <th>0</th>\n",
       "      <td>EZYV01</td>\n",
       "      <td>Asia</td>\n",
       "      <td>High School</td>\n",
       "      <td>N</td>\n",
       "      <td>N</td>\n",
       "      <td>14513</td>\n",
       "      <td>2007</td>\n",
       "      <td>West</td>\n",
       "      <td>592.2029</td>\n",
       "      <td>Hour</td>\n",
       "      <td>Y</td>\n",
       "      <td>Denied</td>\n",
       "    </tr>\n",
       "    <tr>\n",
       "      <th>1</th>\n",
       "      <td>EZYV02</td>\n",
       "      <td>Asia</td>\n",
       "      <td>Master's</td>\n",
       "      <td>Y</td>\n",
       "      <td>N</td>\n",
       "      <td>2412</td>\n",
       "      <td>2002</td>\n",
       "      <td>Northeast</td>\n",
       "      <td>83425.6500</td>\n",
       "      <td>Year</td>\n",
       "      <td>Y</td>\n",
       "      <td>Certified</td>\n",
       "    </tr>\n",
       "    <tr>\n",
       "      <th>2</th>\n",
       "      <td>EZYV03</td>\n",
       "      <td>Asia</td>\n",
       "      <td>Bachelor's</td>\n",
       "      <td>N</td>\n",
       "      <td>Y</td>\n",
       "      <td>44444</td>\n",
       "      <td>2008</td>\n",
       "      <td>West</td>\n",
       "      <td>122996.8600</td>\n",
       "      <td>Year</td>\n",
       "      <td>Y</td>\n",
       "      <td>Denied</td>\n",
       "    </tr>\n",
       "    <tr>\n",
       "      <th>3</th>\n",
       "      <td>EZYV04</td>\n",
       "      <td>Asia</td>\n",
       "      <td>Bachelor's</td>\n",
       "      <td>N</td>\n",
       "      <td>N</td>\n",
       "      <td>98</td>\n",
       "      <td>1897</td>\n",
       "      <td>West</td>\n",
       "      <td>83434.0300</td>\n",
       "      <td>Year</td>\n",
       "      <td>Y</td>\n",
       "      <td>Denied</td>\n",
       "    </tr>\n",
       "    <tr>\n",
       "      <th>4</th>\n",
       "      <td>EZYV05</td>\n",
       "      <td>Africa</td>\n",
       "      <td>Master's</td>\n",
       "      <td>Y</td>\n",
       "      <td>N</td>\n",
       "      <td>1082</td>\n",
       "      <td>2005</td>\n",
       "      <td>South</td>\n",
       "      <td>149907.3900</td>\n",
       "      <td>Year</td>\n",
       "      <td>Y</td>\n",
       "      <td>Certified</td>\n",
       "    </tr>\n",
       "    <tr>\n",
       "      <th>...</th>\n",
       "      <td>...</td>\n",
       "      <td>...</td>\n",
       "      <td>...</td>\n",
       "      <td>...</td>\n",
       "      <td>...</td>\n",
       "      <td>...</td>\n",
       "      <td>...</td>\n",
       "      <td>...</td>\n",
       "      <td>...</td>\n",
       "      <td>...</td>\n",
       "      <td>...</td>\n",
       "      <td>...</td>\n",
       "    </tr>\n",
       "    <tr>\n",
       "      <th>25474</th>\n",
       "      <td>EZYV25475</td>\n",
       "      <td>Africa</td>\n",
       "      <td>Doctorate</td>\n",
       "      <td>N</td>\n",
       "      <td>N</td>\n",
       "      <td>2594</td>\n",
       "      <td>1979</td>\n",
       "      <td>Northeast</td>\n",
       "      <td>51104.7800</td>\n",
       "      <td>Year</td>\n",
       "      <td>Y</td>\n",
       "      <td>Certified</td>\n",
       "    </tr>\n",
       "    <tr>\n",
       "      <th>25475</th>\n",
       "      <td>EZYV25476</td>\n",
       "      <td>Asia</td>\n",
       "      <td>Bachelor's</td>\n",
       "      <td>Y</td>\n",
       "      <td>Y</td>\n",
       "      <td>2601</td>\n",
       "      <td>2008</td>\n",
       "      <td>South</td>\n",
       "      <td>77092.5700</td>\n",
       "      <td>Year</td>\n",
       "      <td>Y</td>\n",
       "      <td>Certified</td>\n",
       "    </tr>\n",
       "    <tr>\n",
       "      <th>25477</th>\n",
       "      <td>EZYV25478</td>\n",
       "      <td>Asia</td>\n",
       "      <td>Master's</td>\n",
       "      <td>Y</td>\n",
       "      <td>N</td>\n",
       "      <td>1121</td>\n",
       "      <td>1910</td>\n",
       "      <td>South</td>\n",
       "      <td>146298.8500</td>\n",
       "      <td>Year</td>\n",
       "      <td>N</td>\n",
       "      <td>Certified</td>\n",
       "    </tr>\n",
       "    <tr>\n",
       "      <th>25478</th>\n",
       "      <td>EZYV25479</td>\n",
       "      <td>Asia</td>\n",
       "      <td>Master's</td>\n",
       "      <td>Y</td>\n",
       "      <td>Y</td>\n",
       "      <td>1918</td>\n",
       "      <td>1887</td>\n",
       "      <td>West</td>\n",
       "      <td>86154.7700</td>\n",
       "      <td>Year</td>\n",
       "      <td>Y</td>\n",
       "      <td>Certified</td>\n",
       "    </tr>\n",
       "    <tr>\n",
       "      <th>25479</th>\n",
       "      <td>EZYV25480</td>\n",
       "      <td>Asia</td>\n",
       "      <td>Bachelor's</td>\n",
       "      <td>Y</td>\n",
       "      <td>N</td>\n",
       "      <td>3195</td>\n",
       "      <td>1960</td>\n",
       "      <td>Midwest</td>\n",
       "      <td>70876.9100</td>\n",
       "      <td>Year</td>\n",
       "      <td>Y</td>\n",
       "      <td>Certified</td>\n",
       "    </tr>\n",
       "  </tbody>\n",
       "</table>\n",
       "<p>25053 rows × 12 columns</p>\n",
       "</div>"
      ],
      "text/plain": [
       "         case_id continent education_of_employee has_job_experience  \\\n",
       "0         EZYV01      Asia           High School                  N   \n",
       "1         EZYV02      Asia              Master's                  Y   \n",
       "2         EZYV03      Asia            Bachelor's                  N   \n",
       "3         EZYV04      Asia            Bachelor's                  N   \n",
       "4         EZYV05    Africa              Master's                  Y   \n",
       "...          ...       ...                   ...                ...   \n",
       "25474  EZYV25475    Africa             Doctorate                  N   \n",
       "25475  EZYV25476      Asia            Bachelor's                  Y   \n",
       "25477  EZYV25478      Asia              Master's                  Y   \n",
       "25478  EZYV25479      Asia              Master's                  Y   \n",
       "25479  EZYV25480      Asia            Bachelor's                  Y   \n",
       "\n",
       "      requires_job_training  no_of_employees  yr_of_estab  \\\n",
       "0                         N            14513         2007   \n",
       "1                         N             2412         2002   \n",
       "2                         Y            44444         2008   \n",
       "3                         N               98         1897   \n",
       "4                         N             1082         2005   \n",
       "...                     ...              ...          ...   \n",
       "25474                     N             2594         1979   \n",
       "25475                     Y             2601         2008   \n",
       "25477                     N             1121         1910   \n",
       "25478                     Y             1918         1887   \n",
       "25479                     N             3195         1960   \n",
       "\n",
       "      region_of_employment  prevailing_wage unit_of_wage full_time_position  \\\n",
       "0                     West         592.2029         Hour                  Y   \n",
       "1                Northeast       83425.6500         Year                  Y   \n",
       "2                     West      122996.8600         Year                  Y   \n",
       "3                     West       83434.0300         Year                  Y   \n",
       "4                    South      149907.3900         Year                  Y   \n",
       "...                    ...              ...          ...                ...   \n",
       "25474            Northeast       51104.7800         Year                  Y   \n",
       "25475                South       77092.5700         Year                  Y   \n",
       "25477                South      146298.8500         Year                  N   \n",
       "25478                 West       86154.7700         Year                  Y   \n",
       "25479              Midwest       70876.9100         Year                  Y   \n",
       "\n",
       "      case_status  \n",
       "0          Denied  \n",
       "1       Certified  \n",
       "2          Denied  \n",
       "3          Denied  \n",
       "4       Certified  \n",
       "...           ...  \n",
       "25474   Certified  \n",
       "25475   Certified  \n",
       "25477   Certified  \n",
       "25478   Certified  \n",
       "25479   Certified  \n",
       "\n",
       "[25053 rows x 12 columns]"
      ]
     },
     "execution_count": 32,
     "metadata": {},
     "output_type": "execute_result"
    }
   ],
   "source": [
    "non_outliers"
   ]
  },
  {
   "cell_type": "code",
   "execution_count": 38,
   "id": "11160d1f",
   "metadata": {},
   "outputs": [
    {
     "data": {
      "image/png": "[encoded data removed]",
      "text/plain": [
       "<Figure size 640x480 with 1 Axes>"
      ]
     },
     "metadata": {},
     "output_type": "display_data"
    },
    {
     "data": {
      "image/png": "[encoded data removed]",
      "text/plain": [
       "<Figure size 640x480 with 1 Axes>"
      ]
     },
     "metadata": {},
     "output_type": "display_data"
    }
   ],
   "source": [
    "file_path=\"C:\\\\Users\\\\lenovo\\\\Desktop\\\\Data Science course\\\\Data Files\\\\Visadataset.csv\"\n",
    "visa_df=pd.read_csv(file_path)#visa_dataset\n",
    "visa_df\n",
    "##########################################\n",
    "plt.subplot(2,2,1)\n",
    "plt.title('After removing outliers')\n",
    "plt.boxplot(non_outliers['prevailing_wage'],vert=False)\n",
    "plt.show()\n",
    "#################################################\n",
    "plt.subplot(2,2,2)\n",
    "plt.title('Orginal data with outliers')\n",
    "plt.boxplot(visa_df['prevailing_wage'],vert=False)\n",
    "plt.show()"
   ]
  },
  {
   "cell_type": "code",
   "execution_count": 39,
   "id": "a09a255a",
   "metadata": {},
   "outputs": [
    {
     "data": {
      "text/plain": [
       "<AxesSubplot:>"
      ]
     },
     "execution_count": 39,
     "metadata": {},
     "output_type": "execute_result"
    },
    {
     "data": {
      "image/png": "[encoded data removed]",
      "text/plain": [
       "<Figure size 640x480 with 4 Axes>"
      ]
     },
     "metadata": {},
     "output_type": "display_data"
    }
   ],
   "source": [
    "plt.subplot(2,2,1)\n",
    "plt.subplot(2,2,2)\n",
    "plt.subplot(2,2,3)\n",
    "plt.subplot(2,2,4)"
   ]
  },
  {
   "cell_type": "markdown",
   "id": "c12b0ddc",
   "metadata": {},
   "source": [
    "$step-2:$ \n",
    "\n",
    "**Impute with median values**\n",
    "\n",
    "- where ever outliers are there impute with median value\n",
    "\n",
    "- where ever outliers are not there keep the same value"
   ]
  },
  {
   "cell_type": "code",
   "execution_count": 41,
   "id": "7f8382c3",
   "metadata": {},
   "outputs": [
    {
     "data": {
      "text/plain": [
       "14     220081.73\n",
       "34     225569.73\n",
       "130    247393.01\n",
       "216    269321.68\n",
       "221    219529.62\n",
       "325    232227.33\n",
       "328    238691.32\n",
       "348    220448.17\n",
       "427    230750.48\n",
       "457    235339.91\n",
       "Name: prevailing_wage, dtype: float64"
      ]
     },
     "execution_count": 41,
     "metadata": {},
     "output_type": "execute_result"
    }
   ],
   "source": [
    "outliers[:10]"
   ]
  },
  {
   "cell_type": "code",
   "execution_count": 43,
   "id": "e5b63994",
   "metadata": {},
   "outputs": [
    {
     "data": {
      "text/plain": [
       "70308.20999999999"
      ]
     },
     "execution_count": 43,
     "metadata": {},
     "output_type": "execute_result"
    }
   ],
   "source": [
    "wage_data.median()"
   ]
  },
  {
   "cell_type": "markdown",
   "id": "4d38428b",
   "metadata": {},
   "source": [
    "**np.where**"
   ]
  },
  {
   "cell_type": "code",
   "execution_count": 52,
   "id": "05c8e0b6",
   "metadata": {},
   "outputs": [
    {
     "data": {
      "text/html": [
       "<div>\n",
       "<style scoped>\n",
       "    .dataframe tbody tr th:only-of-type {\n",
       "        vertical-align: middle;\n",
       "    }\n",
       "\n",
       "    .dataframe tbody tr th {\n",
       "        vertical-align: top;\n",
       "    }\n",
       "\n",
       "    .dataframe thead th {\n",
       "        text-align: right;\n",
       "    }\n",
       "</style>\n",
       "<table border=\"1\" class=\"dataframe\">\n",
       "  <thead>\n",
       "    <tr style=\"text-align: right;\">\n",
       "      <th></th>\n",
       "      <th>Col1</th>\n",
       "      <th>Col2</th>\n",
       "    </tr>\n",
       "  </thead>\n",
       "  <tbody>\n",
       "    <tr>\n",
       "      <th>0</th>\n",
       "      <td>1</td>\n",
       "      <td>A</td>\n",
       "    </tr>\n",
       "    <tr>\n",
       "      <th>1</th>\n",
       "      <td>2</td>\n",
       "      <td>B</td>\n",
       "    </tr>\n",
       "    <tr>\n",
       "      <th>2</th>\n",
       "      <td>3</td>\n",
       "      <td>C</td>\n",
       "    </tr>\n",
       "  </tbody>\n",
       "</table>\n",
       "</div>"
      ],
      "text/plain": [
       "   Col1 Col2\n",
       "0     1    A\n",
       "1     2    B\n",
       "2     3    C"
      ]
     },
     "execution_count": 52,
     "metadata": {},
     "output_type": "execute_result"
    }
   ],
   "source": [
    "dict1={'Col1':[1,2,3],'Col2':['A','B','C']}\n",
    "data=pd.DataFrame(dict1)\n",
    "data\n",
    "# i want to replace with 100 col1 values which are having>2\n",
    "# 1 2 100"
   ]
  },
  {
   "cell_type": "code",
   "execution_count": 45,
   "id": "b502a8fb",
   "metadata": {},
   "outputs": [
    {
     "data": {
      "text/plain": [
       "0    False\n",
       "1    False\n",
       "2     True\n",
       "Name: Col1, dtype: bool"
      ]
     },
     "execution_count": 45,
     "metadata": {},
     "output_type": "execute_result"
    }
   ],
   "source": [
    "data['Col1']>2"
   ]
  },
  {
   "cell_type": "markdown",
   "id": "66ad1371",
   "metadata": {},
   "source": [
    "- for binary conditions \n",
    "\n",
    "- If any condition is true will modify\n",
    "\n",
    "- otherwise dont modify\n",
    "\n",
    "- np.where(condition,modify_value,same_value) \n",
    "\n",
    "- np.where(condition,True,False)"
   ]
  },
  {
   "cell_type": "code",
   "execution_count": 53,
   "id": "594fbbc3",
   "metadata": {},
   "outputs": [
    {
     "data": {
      "text/html": [
       "<div>\n",
       "<style scoped>\n",
       "    .dataframe tbody tr th:only-of-type {\n",
       "        vertical-align: middle;\n",
       "    }\n",
       "\n",
       "    .dataframe tbody tr th {\n",
       "        vertical-align: top;\n",
       "    }\n",
       "\n",
       "    .dataframe thead th {\n",
       "        text-align: right;\n",
       "    }\n",
       "</style>\n",
       "<table border=\"1\" class=\"dataframe\">\n",
       "  <thead>\n",
       "    <tr style=\"text-align: right;\">\n",
       "      <th></th>\n",
       "      <th>Col1</th>\n",
       "      <th>Col2</th>\n",
       "    </tr>\n",
       "  </thead>\n",
       "  <tbody>\n",
       "    <tr>\n",
       "      <th>0</th>\n",
       "      <td>1</td>\n",
       "      <td>A</td>\n",
       "    </tr>\n",
       "    <tr>\n",
       "      <th>1</th>\n",
       "      <td>2</td>\n",
       "      <td>B</td>\n",
       "    </tr>\n",
       "    <tr>\n",
       "      <th>2</th>\n",
       "      <td>100</td>\n",
       "      <td>C</td>\n",
       "    </tr>\n",
       "  </tbody>\n",
       "</table>\n",
       "</div>"
      ],
      "text/plain": [
       "   Col1 Col2\n",
       "0     1    A\n",
       "1     2    B\n",
       "2   100    C"
      ]
     },
     "execution_count": 53,
     "metadata": {},
     "output_type": "execute_result"
    }
   ],
   "source": [
    "data['Col1']=np.where(data['Col1']>2,100,data['Col1'])\n",
    "# 1   2     3\n",
    "# 1>2  False ===== > 1\n",
    "# 2>2  False =====> 2\n",
    "# 3>2  True ===== > 100\n",
    "data"
   ]
  },
  {
   "cell_type": "code",
   "execution_count": 54,
   "id": "04544dd1",
   "metadata": {},
   "outputs": [
    {
     "data": {
      "text/html": [
       "<div>\n",
       "<style scoped>\n",
       "    .dataframe tbody tr th:only-of-type {\n",
       "        vertical-align: middle;\n",
       "    }\n",
       "\n",
       "    .dataframe tbody tr th {\n",
       "        vertical-align: top;\n",
       "    }\n",
       "\n",
       "    .dataframe thead th {\n",
       "        text-align: right;\n",
       "    }\n",
       "</style>\n",
       "<table border=\"1\" class=\"dataframe\">\n",
       "  <thead>\n",
       "    <tr style=\"text-align: right;\">\n",
       "      <th></th>\n",
       "      <th>Col1</th>\n",
       "      <th>Col2</th>\n",
       "    </tr>\n",
       "  </thead>\n",
       "  <tbody>\n",
       "    <tr>\n",
       "      <th>0</th>\n",
       "      <td>1</td>\n",
       "      <td>A</td>\n",
       "    </tr>\n",
       "    <tr>\n",
       "      <th>1</th>\n",
       "      <td>2</td>\n",
       "      <td>B</td>\n",
       "    </tr>\n",
       "    <tr>\n",
       "      <th>2</th>\n",
       "      <td>100</td>\n",
       "      <td>C</td>\n",
       "    </tr>\n",
       "  </tbody>\n",
       "</table>\n",
       "</div>"
      ],
      "text/plain": [
       "   Col1 Col2\n",
       "0     1    A\n",
       "1     2    B\n",
       "2   100    C"
      ]
     },
     "execution_count": 54,
     "metadata": {},
     "output_type": "execute_result"
    }
   ],
   "source": [
    "dict1={'Col1':[1,2,3],'Col2':['A','B','C']}\n",
    "data=pd.DataFrame(dict1)\n",
    "data\n",
    "\n",
    "# where ever col1> 2  ===== replace with 100\n",
    "# otherwise replace with same values\n",
    "# [1,2,100]\n",
    "\n",
    "data['Col1']=np.where(data['Col1']>2,  # 3>2 T\n",
    "                      100,\n",
    "                      data['Col1'])   \n",
    "data"
   ]
  },
  {
   "cell_type": "code",
   "execution_count": 58,
   "id": "73b2ede0",
   "metadata": {},
   "outputs": [],
   "source": [
    "# read the data\n",
    "file_path=\"C:\\\\Users\\\\lenovo\\\\Desktop\\\\Data Science course\\\\Data Files\\\\Visadataset.csv\"\n",
    "visa_df=pd.read_csv(file_path)\n",
    "\n",
    "q1=np.percentile(wage_data,25)\n",
    "q3=np.percentile(wage_data,75)\n",
    "iqr=q3-q1\n",
    "ub=q3+1.5*iqr\n",
    "lb=q1-1.5*iqr\n",
    "con1=visa_df['prevailing_wage']>ub\n",
    "con2=visa_df['prevailing_wage']<lb\n",
    "con1|con2\n",
    "median=visa_df['prevailing_wage'].median()\n",
    "#np.where(<condition>,<modified_vale>,<same>)\n",
    "\n",
    "visa_df['prevailing_wage']=np.where(con1|con2,\n",
    "                                    median,\n",
    "                                    visa_df['prevailing_wage'])\n",
    "\n",
    "visa_df['imputed_column']=np.where(con1|con2,\n",
    "                                    median,\n",
    "                                    visa_df['prevailing_wage'])"
   ]
  },
  {
   "cell_type": "code",
   "execution_count": 59,
   "id": "a7c029d6",
   "metadata": {},
   "outputs": [
    {
     "data": {
      "text/html": [
       "<div>\n",
       "<style scoped>\n",
       "    .dataframe tbody tr th:only-of-type {\n",
       "        vertical-align: middle;\n",
       "    }\n",
       "\n",
       "    .dataframe tbody tr th {\n",
       "        vertical-align: top;\n",
       "    }\n",
       "\n",
       "    .dataframe thead th {\n",
       "        text-align: right;\n",
       "    }\n",
       "</style>\n",
       "<table border=\"1\" class=\"dataframe\">\n",
       "  <thead>\n",
       "    <tr style=\"text-align: right;\">\n",
       "      <th></th>\n",
       "      <th>case_id</th>\n",
       "      <th>continent</th>\n",
       "      <th>education_of_employee</th>\n",
       "      <th>has_job_experience</th>\n",
       "      <th>requires_job_training</th>\n",
       "      <th>no_of_employees</th>\n",
       "      <th>yr_of_estab</th>\n",
       "      <th>region_of_employment</th>\n",
       "      <th>prevailing_wage</th>\n",
       "      <th>unit_of_wage</th>\n",
       "      <th>full_time_position</th>\n",
       "      <th>case_status</th>\n",
       "      <th>imputed_column</th>\n",
       "    </tr>\n",
       "  </thead>\n",
       "  <tbody>\n",
       "    <tr>\n",
       "      <th>0</th>\n",
       "      <td>EZYV01</td>\n",
       "      <td>Asia</td>\n",
       "      <td>High School</td>\n",
       "      <td>N</td>\n",
       "      <td>N</td>\n",
       "      <td>14513</td>\n",
       "      <td>2007</td>\n",
       "      <td>West</td>\n",
       "      <td>592.2029</td>\n",
       "      <td>Hour</td>\n",
       "      <td>Y</td>\n",
       "      <td>Denied</td>\n",
       "      <td>592.2029</td>\n",
       "    </tr>\n",
       "    <tr>\n",
       "      <th>1</th>\n",
       "      <td>EZYV02</td>\n",
       "      <td>Asia</td>\n",
       "      <td>Master's</td>\n",
       "      <td>Y</td>\n",
       "      <td>N</td>\n",
       "      <td>2412</td>\n",
       "      <td>2002</td>\n",
       "      <td>Northeast</td>\n",
       "      <td>83425.6500</td>\n",
       "      <td>Year</td>\n",
       "      <td>Y</td>\n",
       "      <td>Certified</td>\n",
       "      <td>83425.6500</td>\n",
       "    </tr>\n",
       "    <tr>\n",
       "      <th>2</th>\n",
       "      <td>EZYV03</td>\n",
       "      <td>Asia</td>\n",
       "      <td>Bachelor's</td>\n",
       "      <td>N</td>\n",
       "      <td>Y</td>\n",
       "      <td>44444</td>\n",
       "      <td>2008</td>\n",
       "      <td>West</td>\n",
       "      <td>122996.8600</td>\n",
       "      <td>Year</td>\n",
       "      <td>Y</td>\n",
       "      <td>Denied</td>\n",
       "      <td>122996.8600</td>\n",
       "    </tr>\n",
       "    <tr>\n",
       "      <th>3</th>\n",
       "      <td>EZYV04</td>\n",
       "      <td>Asia</td>\n",
       "      <td>Bachelor's</td>\n",
       "      <td>N</td>\n",
       "      <td>N</td>\n",
       "      <td>98</td>\n",
       "      <td>1897</td>\n",
       "      <td>West</td>\n",
       "      <td>83434.0300</td>\n",
       "      <td>Year</td>\n",
       "      <td>Y</td>\n",
       "      <td>Denied</td>\n",
       "      <td>83434.0300</td>\n",
       "    </tr>\n",
       "    <tr>\n",
       "      <th>4</th>\n",
       "      <td>EZYV05</td>\n",
       "      <td>Africa</td>\n",
       "      <td>Master's</td>\n",
       "      <td>Y</td>\n",
       "      <td>N</td>\n",
       "      <td>1082</td>\n",
       "      <td>2005</td>\n",
       "      <td>South</td>\n",
       "      <td>149907.3900</td>\n",
       "      <td>Year</td>\n",
       "      <td>Y</td>\n",
       "      <td>Certified</td>\n",
       "      <td>149907.3900</td>\n",
       "    </tr>\n",
       "    <tr>\n",
       "      <th>...</th>\n",
       "      <td>...</td>\n",
       "      <td>...</td>\n",
       "      <td>...</td>\n",
       "      <td>...</td>\n",
       "      <td>...</td>\n",
       "      <td>...</td>\n",
       "      <td>...</td>\n",
       "      <td>...</td>\n",
       "      <td>...</td>\n",
       "      <td>...</td>\n",
       "      <td>...</td>\n",
       "      <td>...</td>\n",
       "      <td>...</td>\n",
       "    </tr>\n",
       "    <tr>\n",
       "      <th>25475</th>\n",
       "      <td>EZYV25476</td>\n",
       "      <td>Asia</td>\n",
       "      <td>Bachelor's</td>\n",
       "      <td>Y</td>\n",
       "      <td>Y</td>\n",
       "      <td>2601</td>\n",
       "      <td>2008</td>\n",
       "      <td>South</td>\n",
       "      <td>77092.5700</td>\n",
       "      <td>Year</td>\n",
       "      <td>Y</td>\n",
       "      <td>Certified</td>\n",
       "      <td>77092.5700</td>\n",
       "    </tr>\n",
       "    <tr>\n",
       "      <th>25476</th>\n",
       "      <td>EZYV25477</td>\n",
       "      <td>Asia</td>\n",
       "      <td>High School</td>\n",
       "      <td>Y</td>\n",
       "      <td>N</td>\n",
       "      <td>3274</td>\n",
       "      <td>2006</td>\n",
       "      <td>Northeast</td>\n",
       "      <td>70308.2100</td>\n",
       "      <td>Year</td>\n",
       "      <td>Y</td>\n",
       "      <td>Certified</td>\n",
       "      <td>70308.2100</td>\n",
       "    </tr>\n",
       "    <tr>\n",
       "      <th>25477</th>\n",
       "      <td>EZYV25478</td>\n",
       "      <td>Asia</td>\n",
       "      <td>Master's</td>\n",
       "      <td>Y</td>\n",
       "      <td>N</td>\n",
       "      <td>1121</td>\n",
       "      <td>1910</td>\n",
       "      <td>South</td>\n",
       "      <td>146298.8500</td>\n",
       "      <td>Year</td>\n",
       "      <td>N</td>\n",
       "      <td>Certified</td>\n",
       "      <td>146298.8500</td>\n",
       "    </tr>\n",
       "    <tr>\n",
       "      <th>25478</th>\n",
       "      <td>EZYV25479</td>\n",
       "      <td>Asia</td>\n",
       "      <td>Master's</td>\n",
       "      <td>Y</td>\n",
       "      <td>Y</td>\n",
       "      <td>1918</td>\n",
       "      <td>1887</td>\n",
       "      <td>West</td>\n",
       "      <td>86154.7700</td>\n",
       "      <td>Year</td>\n",
       "      <td>Y</td>\n",
       "      <td>Certified</td>\n",
       "      <td>86154.7700</td>\n",
       "    </tr>\n",
       "    <tr>\n",
       "      <th>25479</th>\n",
       "      <td>EZYV25480</td>\n",
       "      <td>Asia</td>\n",
       "      <td>Bachelor's</td>\n",
       "      <td>Y</td>\n",
       "      <td>N</td>\n",
       "      <td>3195</td>\n",
       "      <td>1960</td>\n",
       "      <td>Midwest</td>\n",
       "      <td>70876.9100</td>\n",
       "      <td>Year</td>\n",
       "      <td>Y</td>\n",
       "      <td>Certified</td>\n",
       "      <td>70876.9100</td>\n",
       "    </tr>\n",
       "  </tbody>\n",
       "</table>\n",
       "<p>25480 rows × 13 columns</p>\n",
       "</div>"
      ],
      "text/plain": [
       "         case_id continent education_of_employee has_job_experience  \\\n",
       "0         EZYV01      Asia           High School                  N   \n",
       "1         EZYV02      Asia              Master's                  Y   \n",
       "2         EZYV03      Asia            Bachelor's                  N   \n",
       "3         EZYV04      Asia            Bachelor's                  N   \n",
       "4         EZYV05    Africa              Master's                  Y   \n",
       "...          ...       ...                   ...                ...   \n",
       "25475  EZYV25476      Asia            Bachelor's                  Y   \n",
       "25476  EZYV25477      Asia           High School                  Y   \n",
       "25477  EZYV25478      Asia              Master's                  Y   \n",
       "25478  EZYV25479      Asia              Master's                  Y   \n",
       "25479  EZYV25480      Asia            Bachelor's                  Y   \n",
       "\n",
       "      requires_job_training  no_of_employees  yr_of_estab  \\\n",
       "0                         N            14513         2007   \n",
       "1                         N             2412         2002   \n",
       "2                         Y            44444         2008   \n",
       "3                         N               98         1897   \n",
       "4                         N             1082         2005   \n",
       "...                     ...              ...          ...   \n",
       "25475                     Y             2601         2008   \n",
       "25476                     N             3274         2006   \n",
       "25477                     N             1121         1910   \n",
       "25478                     Y             1918         1887   \n",
       "25479                     N             3195         1960   \n",
       "\n",
       "      region_of_employment  prevailing_wage unit_of_wage full_time_position  \\\n",
       "0                     West         592.2029         Hour                  Y   \n",
       "1                Northeast       83425.6500         Year                  Y   \n",
       "2                     West      122996.8600         Year                  Y   \n",
       "3                     West       83434.0300         Year                  Y   \n",
       "4                    South      149907.3900         Year                  Y   \n",
       "...                    ...              ...          ...                ...   \n",
       "25475                South       77092.5700         Year                  Y   \n",
       "25476            Northeast       70308.2100         Year                  Y   \n",
       "25477                South      146298.8500         Year                  N   \n",
       "25478                 West       86154.7700         Year                  Y   \n",
       "25479              Midwest       70876.9100         Year                  Y   \n",
       "\n",
       "      case_status  imputed_column  \n",
       "0          Denied        592.2029  \n",
       "1       Certified      83425.6500  \n",
       "2          Denied     122996.8600  \n",
       "3          Denied      83434.0300  \n",
       "4       Certified     149907.3900  \n",
       "...           ...             ...  \n",
       "25475   Certified      77092.5700  \n",
       "25476   Certified      70308.2100  \n",
       "25477   Certified     146298.8500  \n",
       "25478   Certified      86154.7700  \n",
       "25479   Certified      70876.9100  \n",
       "\n",
       "[25480 rows x 13 columns]"
      ]
     },
     "execution_count": 59,
     "metadata": {},
     "output_type": "execute_result"
    }
   ],
   "source": [
    "visa_df"
   ]
  },
  {
   "cell_type": "code",
   "execution_count": 62,
   "id": "9ba9bbb7",
   "metadata": {},
   "outputs": [
    {
     "data": {
      "image/png": "[encoded data removed]",
      "text/plain": [
       "<Figure size 640x480 with 1 Axes>"
      ]
     },
     "metadata": {},
     "output_type": "display_data"
    }
   ],
   "source": [
    "plt.boxplot(visa_df['imputed_column'],vert=False)\n",
    "plt.show()"
   ]
  },
  {
   "cell_type": "code",
   "execution_count": 63,
   "id": "aae59a84",
   "metadata": {},
   "outputs": [
    {
     "data": {
      "text/plain": [
       "'C:\\\\Users\\\\lenovo'"
      ]
     },
     "execution_count": 63,
     "metadata": {},
     "output_type": "execute_result"
    }
   ],
   "source": [
    "import os \n",
    "os.getcwd()"
   ]
  },
  {
   "cell_type": "code",
   "execution_count": null,
   "id": "31c0583c",
   "metadata": {},
   "outputs": [],
   "source": []
  }
 ],
 "metadata": {
  "kernelspec": {
   "display_name": "Python 3 (ipykernel)",
   "language": "python",
   "name": "python3"
  },
  "language_info": {
   "codemirror_mode": {
    "name": "ipython",
    "version": 3
   },
   "file_extension": ".py",
   "mimetype": "text/x-python",
   "name": "python",
   "nbconvert_exporter": "python",
   "pygments_lexer": "ipython3",
   "version": "3.9.13"
  }
 },
 "nbformat": 4,
 "nbformat_minor": 5
}
